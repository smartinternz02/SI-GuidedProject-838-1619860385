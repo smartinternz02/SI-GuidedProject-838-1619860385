{
 "cells": [
  {
   "cell_type": "code",
   "execution_count": 1,
   "metadata": {},
   "outputs": [],
   "source": [
    "from tensorflow.keras.models import Sequential\n",
    "from tensorflow.keras.layers import Dense\n",
    "from tensorflow.keras.layers import Convolution2D\n",
    "from tensorflow.keras.layers import MaxPooling2D\n",
    "from tensorflow.keras.layers import Flatten"
   ]
  },
  {
   "cell_type": "code",
   "execution_count": 2,
   "metadata": {},
   "outputs": [],
   "source": [
    "from keras.preprocessing.image import ImageDataGenerator\n",
    "train_datagen = ImageDataGenerator(rescale = 1./255,shear_range = 0.2,zoom_range = 0.2,horizontal_flip = True)\n",
    "test_datagen = ImageDataGenerator(rescale = 1./255)"
   ]
  },
  {
   "cell_type": "code",
   "execution_count": 3,
   "metadata": {},
   "outputs": [
    {
     "name": "stdout",
     "output_type": "stream",
     "text": [
      "Found 1499 images belonging to 5 classes.\n",
      "Found 644 images belonging to 5 classes.\n"
     ]
    }
   ],
   "source": [
    "x_train = train_datagen.flow_from_directory(r\"D:\\Geethanjaliexternship\\Crop-things data\\trainset\",target_size = (64,64),batch_size = 32, class_mode =\"categorical\")\n",
    "x_test = test_datagen.flow_from_directory(r\"D:\\Geethanjaliexternship\\Crop-things data\\testset\",target_size = (64,64),batch_size = 32, class_mode =\"categorical\")\n"
   ]
  },
  {
   "cell_type": "code",
   "execution_count": 4,
   "metadata": {},
   "outputs": [],
   "source": [
    "model = Sequential()"
   ]
  },
  {
   "cell_type": "code",
   "execution_count": 5,
   "metadata": {},
   "outputs": [],
   "source": [
    "model.add(Convolution2D(32,(3,3),input_shape = (64,64,3),activation = 'relu'))"
   ]
  },
  {
   "cell_type": "code",
   "execution_count": 6,
   "metadata": {},
   "outputs": [],
   "source": [
    "model.add(MaxPooling2D(2,2))"
   ]
  },
  {
   "cell_type": "code",
   "execution_count": 7,
   "metadata": {},
   "outputs": [],
   "source": [
    "model.add(Flatten())"
   ]
  },
  {
   "cell_type": "code",
   "execution_count": 8,
   "metadata": {},
   "outputs": [],
   "source": [
    "model.add(Dense(units = 512,activation = \"relu\",kernel_initializer = \"random_uniform\"))"
   ]
  },
  {
   "cell_type": "code",
   "execution_count": 9,
   "metadata": {},
   "outputs": [],
   "source": [
    "model.add(Dense(units = 5,activation = \"softmax\",kernel_initializer = \"random_uniform\"))"
   ]
  },
  {
   "cell_type": "code",
   "execution_count": 10,
   "metadata": {},
   "outputs": [],
   "source": [
    "model.compile(\"sgd\",loss = \"categorical_crossentropy\",metrics = [\"accuracy\"])"
   ]
  },
  {
   "cell_type": "code",
   "execution_count": 11,
   "metadata": {},
   "outputs": [
    {
     "name": "stderr",
     "output_type": "stream",
     "text": [
      "C:\\Users\\Hari Prasad\\Anaconda3\\lib\\site-packages\\tensorflow\\python\\keras\\engine\\training.py:1844: UserWarning: `Model.fit_generator` is deprecated and will be removed in a future version. Please use `Model.fit`, which supports generators.\n",
      "  warnings.warn('`Model.fit_generator` is deprecated and '\n"
     ]
    },
    {
     "name": "stdout",
     "output_type": "stream",
     "text": [
      "Epoch 1/30\n",
      "47/47 [==============================] - 45s 938ms/step - loss: 1.6292 - accuracy: 0.2355 - val_loss: 1.4206 - val_accuracy: 0.4859\n",
      "Epoch 2/30\n",
      "47/47 [==============================] - 14s 302ms/step - loss: 1.5095 - accuracy: 0.3312 - val_loss: 1.3522 - val_accuracy: 0.5406\n",
      "Epoch 3/30\n",
      "47/47 [==============================] - 14s 289ms/step - loss: 1.4357 - accuracy: 0.4025 - val_loss: 1.2627 - val_accuracy: 0.5688\n",
      "Epoch 4/30\n",
      "47/47 [==============================] - 12s 257ms/step - loss: 1.4146 - accuracy: 0.4221 - val_loss: 1.2193 - val_accuracy: 0.5344\n",
      "Epoch 5/30\n",
      "47/47 [==============================] - 12s 250ms/step - loss: 1.3232 - accuracy: 0.4485 - val_loss: 1.2292 - val_accuracy: 0.5078\n",
      "Epoch 6/30\n",
      "47/47 [==============================] - 12s 246ms/step - loss: 1.3325 - accuracy: 0.4363 - val_loss: 1.1420 - val_accuracy: 0.5703\n",
      "Epoch 7/30\n",
      "47/47 [==============================] - 12s 257ms/step - loss: 1.2768 - accuracy: 0.4892 - val_loss: 1.2720 - val_accuracy: 0.5094\n",
      "Epoch 8/30\n",
      "47/47 [==============================] - 12s 247ms/step - loss: 1.2604 - accuracy: 0.4972 - val_loss: 1.2369 - val_accuracy: 0.4875\n",
      "Epoch 9/30\n",
      "47/47 [==============================] - 12s 263ms/step - loss: 1.2185 - accuracy: 0.4977 - val_loss: 0.9879 - val_accuracy: 0.6469\n",
      "Epoch 10/30\n",
      "47/47 [==============================] - 12s 253ms/step - loss: 1.2004 - accuracy: 0.5203 - val_loss: 0.9976 - val_accuracy: 0.6391\n",
      "Epoch 11/30\n",
      "47/47 [==============================] - 12s 253ms/step - loss: 1.1699 - accuracy: 0.5385 - val_loss: 0.9881 - val_accuracy: 0.6453\n",
      "Epoch 12/30\n",
      "47/47 [==============================] - 12s 255ms/step - loss: 1.1972 - accuracy: 0.5304 - val_loss: 1.0178 - val_accuracy: 0.6156\n",
      "Epoch 13/30\n",
      "47/47 [==============================] - 12s 255ms/step - loss: 1.1111 - accuracy: 0.5502 - val_loss: 0.9569 - val_accuracy: 0.6219\n",
      "Epoch 14/30\n",
      "47/47 [==============================] - 12s 254ms/step - loss: 1.1388 - accuracy: 0.5208 - val_loss: 1.0851 - val_accuracy: 0.5922\n",
      "Epoch 15/30\n",
      "47/47 [==============================] - 12s 251ms/step - loss: 1.1021 - accuracy: 0.5599 - val_loss: 1.1204 - val_accuracy: 0.5562\n",
      "Epoch 16/30\n",
      "47/47 [==============================] - 12s 260ms/step - loss: 1.1364 - accuracy: 0.5461 - val_loss: 0.8655 - val_accuracy: 0.6766\n",
      "Epoch 17/30\n",
      "47/47 [==============================] - 12s 265ms/step - loss: 1.0948 - accuracy: 0.5599 - val_loss: 0.9535 - val_accuracy: 0.6281\n",
      "Epoch 18/30\n",
      "47/47 [==============================] - 12s 260ms/step - loss: 1.0869 - accuracy: 0.5576 - val_loss: 0.8384 - val_accuracy: 0.6922\n",
      "Epoch 19/30\n",
      "47/47 [==============================] - 12s 254ms/step - loss: 1.0487 - accuracy: 0.5825 - val_loss: 0.9587 - val_accuracy: 0.6203\n",
      "Epoch 20/30\n",
      "47/47 [==============================] - 12s 261ms/step - loss: 1.0384 - accuracy: 0.5894 - val_loss: 1.2217 - val_accuracy: 0.5359\n",
      "Epoch 21/30\n",
      "47/47 [==============================] - 13s 280ms/step - loss: 1.0441 - accuracy: 0.5808 - val_loss: 0.9855 - val_accuracy: 0.6125\n",
      "Epoch 22/30\n",
      "47/47 [==============================] - 13s 268ms/step - loss: 1.0058 - accuracy: 0.6048 - val_loss: 0.7785 - val_accuracy: 0.7328\n",
      "Epoch 23/30\n",
      "47/47 [==============================] - 12s 262ms/step - loss: 1.0236 - accuracy: 0.6081 - val_loss: 0.8146 - val_accuracy: 0.6922\n",
      "Epoch 24/30\n",
      "47/47 [==============================] - 12s 253ms/step - loss: 0.9651 - accuracy: 0.6263 - val_loss: 0.9920 - val_accuracy: 0.5594\n",
      "Epoch 25/30\n",
      "47/47 [==============================] - 12s 257ms/step - loss: 0.9720 - accuracy: 0.6122 - val_loss: 0.8108 - val_accuracy: 0.6750\n",
      "Epoch 26/30\n",
      "47/47 [==============================] - 13s 275ms/step - loss: 0.9076 - accuracy: 0.6382 - val_loss: 0.9124 - val_accuracy: 0.6453\n",
      "Epoch 27/30\n",
      "47/47 [==============================] - 12s 251ms/step - loss: 0.9315 - accuracy: 0.6536 - val_loss: 0.9371 - val_accuracy: 0.6047\n",
      "Epoch 28/30\n",
      "47/47 [==============================] - 12s 255ms/step - loss: 0.9226 - accuracy: 0.6441 - val_loss: 1.0014 - val_accuracy: 0.5844\n",
      "Epoch 29/30\n",
      "47/47 [==============================] - 12s 249ms/step - loss: 0.9010 - accuracy: 0.6686 - val_loss: 0.7787 - val_accuracy: 0.6891\n",
      "Epoch 30/30\n",
      "47/47 [==============================] - 12s 259ms/step - loss: 0.8988 - accuracy: 0.6471 - val_loss: 0.7661 - val_accuracy: 0.7188\n"
     ]
    },
    {
     "data": {
      "text/plain": [
       "<tensorflow.python.keras.callbacks.History at 0x25704aaa2b0>"
      ]
     },
     "execution_count": 11,
     "metadata": {},
     "output_type": "execute_result"
    }
   ],
   "source": [
    "model.fit_generator(x_train ,steps_per_epoch = 47 ,epochs = 30,validation_data = x_test , validation_steps = 20)"
   ]
  },
  {
   "cell_type": "code",
   "execution_count": 12,
   "metadata": {},
   "outputs": [],
   "source": [
    "model.save(\"things.h5\")"
   ]
  },
  {
   "cell_type": "code",
   "execution_count": null,
   "metadata": {},
   "outputs": [],
   "source": []
  }
 ],
 "metadata": {
  "kernelspec": {
   "display_name": "Python 3",
   "language": "python",
   "name": "python3"
  },
  "language_info": {
   "codemirror_mode": {
    "name": "ipython",
    "version": 3
   },
   "file_extension": ".py",
   "mimetype": "text/x-python",
   "name": "python",
   "nbconvert_exporter": "python",
   "pygments_lexer": "ipython3",
   "version": "3.7.3"
  }
 },
 "nbformat": 4,
 "nbformat_minor": 2
}
